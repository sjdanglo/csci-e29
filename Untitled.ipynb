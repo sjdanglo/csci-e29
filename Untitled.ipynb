{
 "cells": [
  {
   "cell_type": "code",
   "execution_count": 125,
   "metadata": {},
   "outputs": [],
   "source": [
    "import pandas as pd\n",
    "import numpy as np\n",
    "from sklearn.preprocessing import MinMaxScaler\n",
    "from sklearn.cluster import KMeans\n",
    "from sklearn.cross_validation import train_test_split\n",
    "from sklearn.metrics import accuracy_score, classification_report, confusion_matrix\n",
    "from sklearn.neighbors import KNeighborsClassifier\n",
    "import matplotlib.pyplot as plt\n",
    "import seaborn as sns\n",
    "\n",
    "df = pd.read_csv('NFWBS_PUF_2016_data.csv')\n",
    "df_mapped = pd.read_csv('NFWBS_PUF_2016_data_mapped.csv')\n",
    "\n",
    "with open('code_dict.json','r') as data_dict:\n",
    "    dict = eval(data_dict.read()) \n"
   ]
  },
  {
   "cell_type": "code",
   "execution_count": 126,
   "metadata": {},
   "outputs": [
    {
     "data": {
      "text/html": [
       "<div>\n",
       "<style scoped>\n",
       "    .dataframe tbody tr th:only-of-type {\n",
       "        vertical-align: middle;\n",
       "    }\n",
       "\n",
       "    .dataframe tbody tr th {\n",
       "        vertical-align: top;\n",
       "    }\n",
       "\n",
       "    .dataframe thead th {\n",
       "        text-align: right;\n",
       "    }\n",
       "</style>\n",
       "<table border=\"1\" class=\"dataframe\">\n",
       "  <thead>\n",
       "    <tr style=\"text-align: right;\">\n",
       "      <th></th>\n",
       "      <th>PUF_ID</th>\n",
       "      <th>sample</th>\n",
       "      <th>fpl</th>\n",
       "      <th>SWB_1</th>\n",
       "      <th>SWB_2</th>\n",
       "      <th>SWB_3</th>\n",
       "      <th>FWBscore</th>\n",
       "      <th>FWB1_1</th>\n",
       "      <th>FWB1_2</th>\n",
       "      <th>FWB1_3</th>\n",
       "      <th>...</th>\n",
       "      <th>PPMSACAT</th>\n",
       "      <th>PPREG4</th>\n",
       "      <th>PPREG9</th>\n",
       "      <th>PPT01</th>\n",
       "      <th>PPT25</th>\n",
       "      <th>PPT612</th>\n",
       "      <th>PPT1317</th>\n",
       "      <th>PPT18OV</th>\n",
       "      <th>PCTLT200FPL</th>\n",
       "      <th>finalwt</th>\n",
       "    </tr>\n",
       "  </thead>\n",
       "  <tbody>\n",
       "    <tr>\n",
       "      <th>0</th>\n",
       "      <td>10350</td>\n",
       "      <td>2</td>\n",
       "      <td>3</td>\n",
       "      <td>5</td>\n",
       "      <td>5</td>\n",
       "      <td>6</td>\n",
       "      <td>55</td>\n",
       "      <td>3</td>\n",
       "      <td>3</td>\n",
       "      <td>3</td>\n",
       "      <td>...</td>\n",
       "      <td>1</td>\n",
       "      <td>4</td>\n",
       "      <td>8</td>\n",
       "      <td>0</td>\n",
       "      <td>0</td>\n",
       "      <td>0</td>\n",
       "      <td>0</td>\n",
       "      <td>1</td>\n",
       "      <td>0</td>\n",
       "      <td>0.367292</td>\n",
       "    </tr>\n",
       "    <tr>\n",
       "      <th>1</th>\n",
       "      <td>7740</td>\n",
       "      <td>1</td>\n",
       "      <td>3</td>\n",
       "      <td>6</td>\n",
       "      <td>6</td>\n",
       "      <td>6</td>\n",
       "      <td>51</td>\n",
       "      <td>2</td>\n",
       "      <td>2</td>\n",
       "      <td>3</td>\n",
       "      <td>...</td>\n",
       "      <td>1</td>\n",
       "      <td>2</td>\n",
       "      <td>3</td>\n",
       "      <td>0</td>\n",
       "      <td>0</td>\n",
       "      <td>0</td>\n",
       "      <td>0</td>\n",
       "      <td>2</td>\n",
       "      <td>0</td>\n",
       "      <td>1.327561</td>\n",
       "    </tr>\n",
       "    <tr>\n",
       "      <th>2</th>\n",
       "      <td>13699</td>\n",
       "      <td>1</td>\n",
       "      <td>3</td>\n",
       "      <td>4</td>\n",
       "      <td>3</td>\n",
       "      <td>4</td>\n",
       "      <td>49</td>\n",
       "      <td>3</td>\n",
       "      <td>3</td>\n",
       "      <td>3</td>\n",
       "      <td>...</td>\n",
       "      <td>1</td>\n",
       "      <td>4</td>\n",
       "      <td>9</td>\n",
       "      <td>0</td>\n",
       "      <td>0</td>\n",
       "      <td>0</td>\n",
       "      <td>1</td>\n",
       "      <td>2</td>\n",
       "      <td>1</td>\n",
       "      <td>0.835156</td>\n",
       "    </tr>\n",
       "  </tbody>\n",
       "</table>\n",
       "<p>3 rows × 217 columns</p>\n",
       "</div>"
      ],
      "text/plain": [
       "   PUF_ID  sample  fpl  SWB_1  SWB_2  SWB_3  FWBscore  FWB1_1  FWB1_2  FWB1_3  \\\n",
       "0   10350       2    3      5      5      6        55       3       3       3   \n",
       "1    7740       1    3      6      6      6        51       2       2       3   \n",
       "2   13699       1    3      4      3      4        49       3       3       3   \n",
       "\n",
       "     ...     PPMSACAT  PPREG4  PPREG9  PPT01  PPT25  PPT612  PPT1317  PPT18OV  \\\n",
       "0    ...            1       4       8      0      0       0        0        1   \n",
       "1    ...            1       2       3      0      0       0        0        2   \n",
       "2    ...            1       4       9      0      0       0        1        2   \n",
       "\n",
       "   PCTLT200FPL   finalwt  \n",
       "0            0  0.367292  \n",
       "1            0  1.327561  \n",
       "2            1  0.835156  \n",
       "\n",
       "[3 rows x 217 columns]"
      ]
     },
     "execution_count": 126,
     "metadata": {},
     "output_type": "execute_result"
    }
   ],
   "source": [
    "df.head(3)"
   ]
  },
  {
   "cell_type": "code",
   "execution_count": 127,
   "metadata": {},
   "outputs": [
    {
     "name": "stdout",
     "output_type": "stream",
     "text": [
      "{1: 'Married', 2: 'Widowed', 3: 'Divorced/Separated', 4: 'Never married', 5: 'Living with partner'}\n"
     ]
    }
   ],
   "source": [
    "print(dict['PPMARIT'])"
   ]
  },
  {
   "cell_type": "code",
   "execution_count": 128,
   "metadata": {},
   "outputs": [
    {
     "data": {
      "text/html": [
       "<div>\n",
       "<style scoped>\n",
       "    .dataframe tbody tr th:only-of-type {\n",
       "        vertical-align: middle;\n",
       "    }\n",
       "\n",
       "    .dataframe tbody tr th {\n",
       "        vertical-align: top;\n",
       "    }\n",
       "\n",
       "    .dataframe thead th {\n",
       "        text-align: right;\n",
       "    }\n",
       "</style>\n",
       "<table border=\"1\" class=\"dataframe\">\n",
       "  <thead>\n",
       "    <tr style=\"text-align: right;\">\n",
       "      <th></th>\n",
       "      <th>PUF_ID</th>\n",
       "      <th>sample</th>\n",
       "      <th>fpl</th>\n",
       "      <th>SWB_1</th>\n",
       "      <th>SWB_2</th>\n",
       "      <th>SWB_3</th>\n",
       "      <th>FWBscore</th>\n",
       "      <th>FWB1_1</th>\n",
       "      <th>FWB1_2</th>\n",
       "      <th>FWB1_3</th>\n",
       "      <th>...</th>\n",
       "      <th>PPMSACAT</th>\n",
       "      <th>PPREG4</th>\n",
       "      <th>PPREG9</th>\n",
       "      <th>PPT01</th>\n",
       "      <th>PPT25</th>\n",
       "      <th>PPT612</th>\n",
       "      <th>PPT1317</th>\n",
       "      <th>PPT18OV</th>\n",
       "      <th>PCTLT200FPL</th>\n",
       "      <th>finalwt</th>\n",
       "    </tr>\n",
       "  </thead>\n",
       "  <tbody>\n",
       "    <tr>\n",
       "      <th>0</th>\n",
       "      <td>10350</td>\n",
       "      <td>Age 62+ oversample</td>\n",
       "      <td>200%+ FPL</td>\n",
       "      <td>5</td>\n",
       "      <td>5</td>\n",
       "      <td>6</td>\n",
       "      <td>55</td>\n",
       "      <td>Somewhat</td>\n",
       "      <td>Somewhat</td>\n",
       "      <td>Somewhat</td>\n",
       "      <td>...</td>\n",
       "      <td>Metro</td>\n",
       "      <td>West</td>\n",
       "      <td>Mountain</td>\n",
       "      <td>0</td>\n",
       "      <td>0</td>\n",
       "      <td>0</td>\n",
       "      <td>0</td>\n",
       "      <td>1</td>\n",
       "      <td>Less than 40% of county population below 200% ...</td>\n",
       "      <td>0.367292</td>\n",
       "    </tr>\n",
       "    <tr>\n",
       "      <th>1</th>\n",
       "      <td>7740</td>\n",
       "      <td>General population</td>\n",
       "      <td>200%+ FPL</td>\n",
       "      <td>6</td>\n",
       "      <td>6</td>\n",
       "      <td>6</td>\n",
       "      <td>51</td>\n",
       "      <td>Very little</td>\n",
       "      <td>Very little</td>\n",
       "      <td>Somewhat</td>\n",
       "      <td>...</td>\n",
       "      <td>Metro</td>\n",
       "      <td>Midwest</td>\n",
       "      <td>East-North Central</td>\n",
       "      <td>0</td>\n",
       "      <td>0</td>\n",
       "      <td>0</td>\n",
       "      <td>0</td>\n",
       "      <td>2</td>\n",
       "      <td>Less than 40% of county population below 200% ...</td>\n",
       "      <td>1.327561</td>\n",
       "    </tr>\n",
       "    <tr>\n",
       "      <th>2</th>\n",
       "      <td>13699</td>\n",
       "      <td>General population</td>\n",
       "      <td>200%+ FPL</td>\n",
       "      <td>4</td>\n",
       "      <td>3</td>\n",
       "      <td>4</td>\n",
       "      <td>49</td>\n",
       "      <td>Somewhat</td>\n",
       "      <td>Somewhat</td>\n",
       "      <td>Somewhat</td>\n",
       "      <td>...</td>\n",
       "      <td>Metro</td>\n",
       "      <td>West</td>\n",
       "      <td>Pacific</td>\n",
       "      <td>0</td>\n",
       "      <td>0</td>\n",
       "      <td>0</td>\n",
       "      <td>1+</td>\n",
       "      <td>2</td>\n",
       "      <td>40% or more of county population below 200% of...</td>\n",
       "      <td>0.835156</td>\n",
       "    </tr>\n",
       "  </tbody>\n",
       "</table>\n",
       "<p>3 rows × 217 columns</p>\n",
       "</div>"
      ],
      "text/plain": [
       "   PUF_ID              sample        fpl SWB_1 SWB_2 SWB_3 FWBscore  \\\n",
       "0   10350  Age 62+ oversample  200%+ FPL     5     5     6       55   \n",
       "1    7740  General population  200%+ FPL     6     6     6       51   \n",
       "2   13699  General population  200%+ FPL     4     3     4       49   \n",
       "\n",
       "        FWB1_1       FWB1_2    FWB1_3    ...    PPMSACAT   PPREG4  \\\n",
       "0     Somewhat     Somewhat  Somewhat    ...       Metro     West   \n",
       "1  Very little  Very little  Somewhat    ...       Metro  Midwest   \n",
       "2     Somewhat     Somewhat  Somewhat    ...       Metro     West   \n",
       "\n",
       "               PPREG9 PPT01 PPT25 PPT612 PPT1317 PPT18OV  \\\n",
       "0            Mountain     0     0      0       0       1   \n",
       "1  East-North Central     0     0      0       0       2   \n",
       "2             Pacific     0     0      0      1+       2   \n",
       "\n",
       "                                         PCTLT200FPL   finalwt  \n",
       "0  Less than 40% of county population below 200% ...  0.367292  \n",
       "1  Less than 40% of county population below 200% ...  1.327561  \n",
       "2  40% or more of county population below 200% of...  0.835156  \n",
       "\n",
       "[3 rows x 217 columns]"
      ]
     },
     "execution_count": 128,
     "metadata": {},
     "output_type": "execute_result"
    }
   ],
   "source": [
    "df_mapped.head(3)"
   ]
  },
  {
   "cell_type": "code",
   "execution_count": 129,
   "metadata": {},
   "outputs": [
    {
     "data": {
      "text/plain": [
       "(array([0, 1, 2, 3, 4]), <a list of 5 Text xticklabel objects>)"
      ]
     },
     "execution_count": 129,
     "metadata": {},
     "output_type": "execute_result"
    },
    {
     "data": {
      "image/png": "[encoded data removed]",
      "text/plain": [
       "<Figure size 432x288 with 1 Axes>"
      ]
     },
     "metadata": {},
     "output_type": "display_data"
    },
    {
     "data": {
      "image/png": "[encoded data removed]",
      "text/plain": [
       "<Figure size 432x288 with 1 Axes>"
      ]
     },
     "metadata": {},
     "output_type": "display_data"
    },
    {
     "data": {
      "image/png": "[encoded data removed]",
      "text/plain": [
       "<Figure size 432x288 with 1 Axes>"
      ]
     },
     "metadata": {},
     "output_type": "display_data"
    },
    {
     "data": {
      "image/png": "[encoded data removed]",
      "text/plain": [
       "<Figure size 432x288 with 1 Axes>"
      ]
     },
     "metadata": {},
     "output_type": "display_data"
    },
    {
     "data": {
      "image/png": "[encoded data removed]",
      "text/plain": [
       "<Figure size 432x288 with 1 Axes>"
      ]
     },
     "metadata": {},
     "output_type": "display_data"
    }
   ],
   "source": [
    "#Plotting some interesting variables\n",
    "plt.figure()\n",
    "fig_gender = sns.countplot(df_mapped[\"PPGENDER\"])\n",
    "fig_gender.set_title(\"Gender\")\n",
    "fig_gender.set_xlabel('')\n",
    "\n",
    "plt.figure()\n",
    "fig_race = sns.countplot(df_mapped['PPETHM'])\n",
    "fig_race.set_title(\"Race/Ethnicity\")\n",
    "fig_race.set_xlabel('')\n",
    "plt.xticks(rotation=30)\n",
    "\n",
    "plt.figure()\n",
    "fig_fpl = sns.countplot(df_mapped[\"fpl\"])\n",
    "fig_fpl.set_title(\"Poverty Status (FPL)\")\n",
    "fig_fpl.set_xlabel('')\n",
    "\n",
    "plt.figure()\n",
    "fig_generation = sns.countplot(df_mapped['generation'])\n",
    "fig_generation.set_title(\"Generation\")\n",
    "fig_generation.set_xlabel('')\n",
    "\n",
    "plt.figure()\n",
    "fig_marital = sns.countplot(df_mapped['PPMARIT'])\n",
    "fig_marital.set_title(\"Marital Status\")\n",
    "fig_marital.set_xlabel('')\n",
    "plt.xticks(rotation=30)\n"
   ]
  },
  {
   "cell_type": "code",
   "execution_count": 130,
   "metadata": {},
   "outputs": [],
   "source": [
    "#Preparing data for models\n",
    "df = df.drop(['PUF_ID', 'sample', 'finalwt'], axis=1)\n",
    "df = df.astype(str) \n"
   ]
  },
  {
   "cell_type": "markdown",
   "metadata": {},
   "source": [
    "### K NEAREST NEIGHBORS"
   ]
  },
  {
   "cell_type": "code",
   "execution_count": 164,
   "metadata": {},
   "outputs": [
    {
     "name": "stdout",
     "output_type": "stream",
     "text": [
      "Map for FPL Values:  {1: '<100% FPL', 2: '100%-199% FPL', 3: '200%+ FPL'}\n",
      "Map for Gender Values:  {1: 'Male', 2: 'Female'}\n"
     ]
    }
   ],
   "source": [
    "X_fpl = df.drop([\"fpl\"], axis=1)\n",
    "y_fpl = df[\"fpl\"]\n",
    "y_fpl = y_fpl.str.replace(\"2\", \"1\")\n",
    "y_fpl = y_fpl.str.replace(\"3\", \"0\")  #We'll mark individuals who are <199% FPL as \"1\"\n",
    "print(\"Map for FPL Values: \", dict[\"fpl\"])\n",
    "\n",
    "X_gender = df.drop([\"PPGENDER\"], axis=1)\n",
    "y_gender = df[\"PPGENDER\"]  \n",
    "y_gender = y_gender.str.replace(\"1\", \"0\")\n",
    "y_gender = y_gender.str.replace(\"2\", \"1\") \n",
    "#We'll mark individuals who are female as \"1\"\n",
    "print(\"Map for Gender Values: \", dict[\"PPGENDER\"])\n",
    "\n"
   ]
  },
  {
   "cell_type": "code",
   "execution_count": 165,
   "metadata": {},
   "outputs": [],
   "source": [
    "#Create and fit the model\n",
    "#Even though the values are numbers, they are just categorical labels, so we'll change the datatype\n",
    "\n",
    "def k_nearest_neighbors(X, y, target_name):\n",
    "    print(\"\\nPredicting individuals who are \", target_name, \"...\")\n",
    "    X = pd.get_dummies(X)\n",
    "    X_train, X_test, y_train, y_test = train_test_split(X, y, test_size = 0.2, random_state = 5, stratify = y)\n",
    "    knn = KNeighborsClassifier(n_neighbors=5)\n",
    "    knn.fit(X_train, y_train)\n",
    "    knn_pred = knn.predict(X_test)\n",
    "    print(accuracy_score(y_test, knn_pred))\n",
    "    print()\n",
    "    print(classification_report(y_test, knn_pred))\n",
    "\n",
    "    #knn_cm = confusion_matrix(y_test, knn_pred, labels=[0, 1])\n",
    "    #ax= sns.heatmap(knn_cm, annot=True, fmt=\"d\")\n",
    "    #ax.set_xlabel('Predicted labels')\n",
    "    #ax.set_ylabel('True labels')\n",
    "    #ax.set_title('Confusion Matrix')\n",
    "    #ax.xaxis.set_ticklabels(['above poverty line', 'below poverty line'])\n",
    "    #ax.yaxis.set_ticklabels(['below poverty line', 'above poverty line'])"
   ]
  },
  {
   "cell_type": "code",
   "execution_count": 167,
   "metadata": {},
   "outputs": [
    {
     "name": "stdout",
     "output_type": "stream",
     "text": [
      "\n",
      "Predicting individuals who are  <199% of the Federal Poverty Line ...\n",
      "0.8209538702111024\n",
      "\n",
      "             precision    recall  f1-score   support\n",
      "\n",
      "          0       0.84      0.94      0.89       975\n",
      "          1       0.70      0.43      0.53       304\n",
      "\n",
      "avg / total       0.81      0.82      0.80      1279\n",
      "\n",
      "\n",
      "Predicting individuals who are  female ...\n",
      "0.6293979671618452\n",
      "\n",
      "             precision    recall  f1-score   support\n",
      "\n",
      "          0       0.62      0.74      0.68       671\n",
      "          1       0.64      0.51      0.57       608\n",
      "\n",
      "avg / total       0.63      0.63      0.62      1279\n",
      "\n"
     ]
    }
   ],
   "source": [
    "k_nearest_neighbors(X_fpl, y_fpl, \"<199% of the Federal Poverty Line\")  #For predicting individuals <199% FPL\n",
    "k_nearest_neighbors(X_gender, y_gender, \"female\")  #For predictin individuals who are female"
   ]
  },
  {
   "cell_type": "markdown",
   "metadata": {},
   "source": [
    "### KMEANS"
   ]
  },
  {
   "cell_type": "code",
   "execution_count": null,
   "metadata": {},
   "outputs": [],
   "source": [
    "df.head()\n",
    "\n",
    "X = df.drop(\"PPGENDER\", axis=1)\n",
    "X = pd.get_dummies(X)\n",
    "\n",
    "scaler = MinMaxScaler()\n",
    "scaler.fit(X)"
   ]
  },
  {
   "cell_type": "code",
   "execution_count": null,
   "metadata": {},
   "outputs": [],
   "source": [
    "df_inertia = pd.DataFrame(columns = ['n_clusters', 'inertia'])\n",
    "\n",
    "for i in range(1,10):\n",
    "    \n",
    "    km = KMeans(n_clusters=i).fit(X)\n",
    "    inertia = km.inertia_\n",
    "    df_inertia = df_inertia.append({'n_clusters':i, 'inertia':inertia}, ignore_index=True)\n",
    "\n",
    "\n",
    "plt.plot(df_inertia['n_clusters'], df_inertia['inertia'])"
   ]
  },
  {
   "cell_type": "code",
   "execution_count": 141,
   "metadata": {},
   "outputs": [],
   "source": [
    "km = KMeans(n_clusters=2).fit(X)\n",
    "labels = km.fit_predict(X)  #get the labels for each response generated from algorithm\n",
    "df['labels'] = labels  #add labels to dataframe with responses\n"
   ]
  },
  {
   "cell_type": "code",
   "execution_count": 154,
   "metadata": {},
   "outputs": [
    {
     "name": "stdout",
     "output_type": "stream",
     "text": [
      "Male      3352\n",
      "Female    3042\n",
      "Name: PPGENDER, dtype: int64\n",
      "[[   0 2393]\n",
      " [   1 4001]]\n"
     ]
    }
   ],
   "source": [
    "print(df_mapped.PPGENDER.value_counts())\n",
    "\n",
    "unique, counts = np.unique(labels, return_counts=True)\n",
    "\n",
    "print(np.asarray((unique, counts)).T)\n",
    "\n",
    "#print(df_mapped.PPGENDER.value_counts())"
   ]
  },
  {
   "cell_type": "code",
   "execution_count": 75,
   "metadata": {},
   "outputs": [
    {
     "data": {
      "text/plain": [
       "0       3\n",
       "1       3\n",
       "2       3\n",
       "3       3\n",
       "4       3\n",
       "5       3\n",
       "6       3\n",
       "7       3\n",
       "8       3\n",
       "9       3\n",
       "10      3\n",
       "11      3\n",
       "12      2\n",
       "13      3\n",
       "14      3\n",
       "15      1\n",
       "16      1\n",
       "17      3\n",
       "18      3\n",
       "19      2\n",
       "20      3\n",
       "21      3\n",
       "22      3\n",
       "23      3\n",
       "24      3\n",
       "25      3\n",
       "26      3\n",
       "27      3\n",
       "28      3\n",
       "29      3\n",
       "       ..\n",
       "6364    3\n",
       "6365    3\n",
       "6366    2\n",
       "6367    1\n",
       "6368    3\n",
       "6369    3\n",
       "6370    3\n",
       "6371    2\n",
       "6372    3\n",
       "6373    3\n",
       "6374    1\n",
       "6375    3\n",
       "6376    1\n",
       "6377    3\n",
       "6378    3\n",
       "6379    3\n",
       "6380    2\n",
       "6381    3\n",
       "6382    3\n",
       "6383    1\n",
       "6384    2\n",
       "6385    3\n",
       "6386    3\n",
       "6387    2\n",
       "6388    2\n",
       "6389    3\n",
       "6390    2\n",
       "6391    3\n",
       "6392    3\n",
       "6393    2\n",
       "Name: fpl, Length: 6394, dtype: int64"
      ]
     },
     "execution_count": 75,
     "metadata": {},
     "output_type": "execute_result"
    }
   ],
   "source": []
  },
  {
   "cell_type": "code",
   "execution_count": null,
   "metadata": {},
   "outputs": [],
   "source": []
  }
 ],
 "metadata": {
  "kernelspec": {
   "display_name": "Python 3",
   "language": "python",
   "name": "python3"
  },
  "language_info": {
   "codemirror_mode": {
    "name": "ipython",
    "version": 3
   },
   "file_extension": ".py",
   "mimetype": "text/x-python",
   "name": "python",
   "nbconvert_exporter": "python",
   "pygments_lexer": "ipython3",
   "version": "3.6.4"
  }
 },
 "nbformat": 4,
 "nbformat_minor": 2
}

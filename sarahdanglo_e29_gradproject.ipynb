{
 "cells": [
  {
   "cell_type": "code",
   "execution_count": 346,
   "metadata": {},
   "outputs": [],
   "source": [
    "import pandas as pd\n",
    "import numpy as np\n",
    "import matplotlib.pyplot as plt\n",
    "import seaborn as sns\n",
    "from sklearn.cluster import KMeans\n",
    "from sklearn.cross_validation import train_test_split\n",
    "from sklearn.metrics import accuracy_score, classification_report\n",
    "from sklearn.neighbors import KNeighborsClassifier\n",
    "from sklearn.tree import DecisionTreeClassifier\n",
    "from sklearn.tree import export_graphviz\n",
    "\n",
    "\n"
   ]
  },
  {
   "cell_type": "code",
   "execution_count": 329,
   "metadata": {},
   "outputs": [],
   "source": [
    "df = pd.read_csv('NFWBS_PUF_2016_data.csv')\n",
    "df_mapped = pd.read_csv('NFWBS_PUF_2016_data_mapped.csv')\n",
    "\n",
    "with open('code_dict.json','r') as data_dict:\n",
    "    dict = eval(data_dict.read()) "
   ]
  },
  {
   "cell_type": "code",
   "execution_count": 330,
   "metadata": {},
   "outputs": [
    {
     "data": {
      "text/html": [
       "<div>\n",
       "<style scoped>\n",
       "    .dataframe tbody tr th:only-of-type {\n",
       "        vertical-align: middle;\n",
       "    }\n",
       "\n",
       "    .dataframe tbody tr th {\n",
       "        vertical-align: top;\n",
       "    }\n",
       "\n",
       "    .dataframe thead th {\n",
       "        text-align: right;\n",
       "    }\n",
       "</style>\n",
       "<table border=\"1\" class=\"dataframe\">\n",
       "  <thead>\n",
       "    <tr style=\"text-align: right;\">\n",
       "      <th></th>\n",
       "      <th>PUF_ID</th>\n",
       "      <th>sample</th>\n",
       "      <th>fpl</th>\n",
       "      <th>SWB_1</th>\n",
       "      <th>SWB_2</th>\n",
       "      <th>SWB_3</th>\n",
       "      <th>FWBscore</th>\n",
       "      <th>FWB1_1</th>\n",
       "      <th>FWB1_2</th>\n",
       "      <th>FWB1_3</th>\n",
       "      <th>...</th>\n",
       "      <th>PPMSACAT</th>\n",
       "      <th>PPREG4</th>\n",
       "      <th>PPREG9</th>\n",
       "      <th>PPT01</th>\n",
       "      <th>PPT25</th>\n",
       "      <th>PPT612</th>\n",
       "      <th>PPT1317</th>\n",
       "      <th>PPT18OV</th>\n",
       "      <th>PCTLT200FPL</th>\n",
       "      <th>finalwt</th>\n",
       "    </tr>\n",
       "  </thead>\n",
       "  <tbody>\n",
       "    <tr>\n",
       "      <th>0</th>\n",
       "      <td>10350</td>\n",
       "      <td>2</td>\n",
       "      <td>3</td>\n",
       "      <td>5</td>\n",
       "      <td>5</td>\n",
       "      <td>6</td>\n",
       "      <td>55</td>\n",
       "      <td>3</td>\n",
       "      <td>3</td>\n",
       "      <td>3</td>\n",
       "      <td>...</td>\n",
       "      <td>1</td>\n",
       "      <td>4</td>\n",
       "      <td>8</td>\n",
       "      <td>0</td>\n",
       "      <td>0</td>\n",
       "      <td>0</td>\n",
       "      <td>0</td>\n",
       "      <td>1</td>\n",
       "      <td>0</td>\n",
       "      <td>0.367292</td>\n",
       "    </tr>\n",
       "    <tr>\n",
       "      <th>1</th>\n",
       "      <td>7740</td>\n",
       "      <td>1</td>\n",
       "      <td>3</td>\n",
       "      <td>6</td>\n",
       "      <td>6</td>\n",
       "      <td>6</td>\n",
       "      <td>51</td>\n",
       "      <td>2</td>\n",
       "      <td>2</td>\n",
       "      <td>3</td>\n",
       "      <td>...</td>\n",
       "      <td>1</td>\n",
       "      <td>2</td>\n",
       "      <td>3</td>\n",
       "      <td>0</td>\n",
       "      <td>0</td>\n",
       "      <td>0</td>\n",
       "      <td>0</td>\n",
       "      <td>2</td>\n",
       "      <td>0</td>\n",
       "      <td>1.327561</td>\n",
       "    </tr>\n",
       "    <tr>\n",
       "      <th>2</th>\n",
       "      <td>13699</td>\n",
       "      <td>1</td>\n",
       "      <td>3</td>\n",
       "      <td>4</td>\n",
       "      <td>3</td>\n",
       "      <td>4</td>\n",
       "      <td>49</td>\n",
       "      <td>3</td>\n",
       "      <td>3</td>\n",
       "      <td>3</td>\n",
       "      <td>...</td>\n",
       "      <td>1</td>\n",
       "      <td>4</td>\n",
       "      <td>9</td>\n",
       "      <td>0</td>\n",
       "      <td>0</td>\n",
       "      <td>0</td>\n",
       "      <td>1</td>\n",
       "      <td>2</td>\n",
       "      <td>1</td>\n",
       "      <td>0.835156</td>\n",
       "    </tr>\n",
       "  </tbody>\n",
       "</table>\n",
       "<p>3 rows × 217 columns</p>\n",
       "</div>"
      ],
      "text/plain": [
       "   PUF_ID  sample  fpl  SWB_1  SWB_2  SWB_3  FWBscore  FWB1_1  FWB1_2  FWB1_3  \\\n",
       "0   10350       2    3      5      5      6        55       3       3       3   \n",
       "1    7740       1    3      6      6      6        51       2       2       3   \n",
       "2   13699       1    3      4      3      4        49       3       3       3   \n",
       "\n",
       "     ...     PPMSACAT  PPREG4  PPREG9  PPT01  PPT25  PPT612  PPT1317  PPT18OV  \\\n",
       "0    ...            1       4       8      0      0       0        0        1   \n",
       "1    ...            1       2       3      0      0       0        0        2   \n",
       "2    ...            1       4       9      0      0       0        1        2   \n",
       "\n",
       "   PCTLT200FPL   finalwt  \n",
       "0            0  0.367292  \n",
       "1            0  1.327561  \n",
       "2            1  0.835156  \n",
       "\n",
       "[3 rows x 217 columns]"
      ]
     },
     "execution_count": 330,
     "metadata": {},
     "output_type": "execute_result"
    }
   ],
   "source": [
    "df.head(3)"
   ]
  },
  {
   "cell_type": "code",
   "execution_count": 331,
   "metadata": {},
   "outputs": [
    {
     "data": {
      "text/html": [
       "<div>\n",
       "<style scoped>\n",
       "    .dataframe tbody tr th:only-of-type {\n",
       "        vertical-align: middle;\n",
       "    }\n",
       "\n",
       "    .dataframe tbody tr th {\n",
       "        vertical-align: top;\n",
       "    }\n",
       "\n",
       "    .dataframe thead th {\n",
       "        text-align: right;\n",
       "    }\n",
       "</style>\n",
       "<table border=\"1\" class=\"dataframe\">\n",
       "  <thead>\n",
       "    <tr style=\"text-align: right;\">\n",
       "      <th></th>\n",
       "      <th>PUF_ID</th>\n",
       "      <th>sample</th>\n",
       "      <th>fpl</th>\n",
       "      <th>SWB_1</th>\n",
       "      <th>SWB_2</th>\n",
       "      <th>SWB_3</th>\n",
       "      <th>FWBscore</th>\n",
       "      <th>FWB1_1</th>\n",
       "      <th>FWB1_2</th>\n",
       "      <th>FWB1_3</th>\n",
       "      <th>...</th>\n",
       "      <th>PPMSACAT</th>\n",
       "      <th>PPREG4</th>\n",
       "      <th>PPREG9</th>\n",
       "      <th>PPT01</th>\n",
       "      <th>PPT25</th>\n",
       "      <th>PPT612</th>\n",
       "      <th>PPT1317</th>\n",
       "      <th>PPT18OV</th>\n",
       "      <th>PCTLT200FPL</th>\n",
       "      <th>finalwt</th>\n",
       "    </tr>\n",
       "  </thead>\n",
       "  <tbody>\n",
       "    <tr>\n",
       "      <th>0</th>\n",
       "      <td>10350</td>\n",
       "      <td>Age 62+ oversample</td>\n",
       "      <td>200%+ FPL</td>\n",
       "      <td>5</td>\n",
       "      <td>5</td>\n",
       "      <td>6</td>\n",
       "      <td>55</td>\n",
       "      <td>Somewhat</td>\n",
       "      <td>Somewhat</td>\n",
       "      <td>Somewhat</td>\n",
       "      <td>...</td>\n",
       "      <td>Metro</td>\n",
       "      <td>West</td>\n",
       "      <td>Mountain</td>\n",
       "      <td>0</td>\n",
       "      <td>0</td>\n",
       "      <td>0</td>\n",
       "      <td>0</td>\n",
       "      <td>1</td>\n",
       "      <td>Less than 40% of county population below 200% ...</td>\n",
       "      <td>0.367292</td>\n",
       "    </tr>\n",
       "    <tr>\n",
       "      <th>1</th>\n",
       "      <td>7740</td>\n",
       "      <td>General population</td>\n",
       "      <td>200%+ FPL</td>\n",
       "      <td>6</td>\n",
       "      <td>6</td>\n",
       "      <td>6</td>\n",
       "      <td>51</td>\n",
       "      <td>Very little</td>\n",
       "      <td>Very little</td>\n",
       "      <td>Somewhat</td>\n",
       "      <td>...</td>\n",
       "      <td>Metro</td>\n",
       "      <td>Midwest</td>\n",
       "      <td>East-North Central</td>\n",
       "      <td>0</td>\n",
       "      <td>0</td>\n",
       "      <td>0</td>\n",
       "      <td>0</td>\n",
       "      <td>2</td>\n",
       "      <td>Less than 40% of county population below 200% ...</td>\n",
       "      <td>1.327561</td>\n",
       "    </tr>\n",
       "    <tr>\n",
       "      <th>2</th>\n",
       "      <td>13699</td>\n",
       "      <td>General population</td>\n",
       "      <td>200%+ FPL</td>\n",
       "      <td>4</td>\n",
       "      <td>3</td>\n",
       "      <td>4</td>\n",
       "      <td>49</td>\n",
       "      <td>Somewhat</td>\n",
       "      <td>Somewhat</td>\n",
       "      <td>Somewhat</td>\n",
       "      <td>...</td>\n",
       "      <td>Metro</td>\n",
       "      <td>West</td>\n",
       "      <td>Pacific</td>\n",
       "      <td>0</td>\n",
       "      <td>0</td>\n",
       "      <td>0</td>\n",
       "      <td>1+</td>\n",
       "      <td>2</td>\n",
       "      <td>40% or more of county population below 200% of...</td>\n",
       "      <td>0.835156</td>\n",
       "    </tr>\n",
       "  </tbody>\n",
       "</table>\n",
       "<p>3 rows × 217 columns</p>\n",
       "</div>"
      ],
      "text/plain": [
       "   PUF_ID              sample        fpl SWB_1 SWB_2 SWB_3 FWBscore  \\\n",
       "0   10350  Age 62+ oversample  200%+ FPL     5     5     6       55   \n",
       "1    7740  General population  200%+ FPL     6     6     6       51   \n",
       "2   13699  General population  200%+ FPL     4     3     4       49   \n",
       "\n",
       "        FWB1_1       FWB1_2    FWB1_3    ...    PPMSACAT   PPREG4  \\\n",
       "0     Somewhat     Somewhat  Somewhat    ...       Metro     West   \n",
       "1  Very little  Very little  Somewhat    ...       Metro  Midwest   \n",
       "2     Somewhat     Somewhat  Somewhat    ...       Metro     West   \n",
       "\n",
       "               PPREG9 PPT01 PPT25 PPT612 PPT1317 PPT18OV  \\\n",
       "0            Mountain     0     0      0       0       1   \n",
       "1  East-North Central     0     0      0       0       2   \n",
       "2             Pacific     0     0      0      1+       2   \n",
       "\n",
       "                                         PCTLT200FPL   finalwt  \n",
       "0  Less than 40% of county population below 200% ...  0.367292  \n",
       "1  Less than 40% of county population below 200% ...  1.327561  \n",
       "2  40% or more of county population below 200% of...  0.835156  \n",
       "\n",
       "[3 rows x 217 columns]"
      ]
     },
     "execution_count": 331,
     "metadata": {},
     "output_type": "execute_result"
    }
   ],
   "source": [
    "df_mapped.head(3)"
   ]
  },
  {
   "cell_type": "code",
   "execution_count": 332,
   "metadata": {},
   "outputs": [
    {
     "name": "stdout",
     "output_type": "stream",
     "text": [
      "{1: 'Married', 2: 'Widowed', 3: 'Divorced/Separated', 4: 'Never married', 5: 'Living with partner'}\n"
     ]
    }
   ],
   "source": [
    "print(dict['PPMARIT'])"
   ]
  },
  {
   "cell_type": "code",
   "execution_count": 333,
   "metadata": {},
   "outputs": [
    {
     "data": {
      "text/plain": [
       "25-34    1116\n",
       "45-54    1075\n",
       "62-69    1021\n",
       "35-44     828\n",
       "75+       736\n",
       "55-61     708\n",
       "70-74     496\n",
       "18-24     414\n",
       "Name: agecat, dtype: int64"
      ]
     },
     "execution_count": 333,
     "metadata": {},
     "output_type": "execute_result"
    }
   ],
   "source": [
    "df_mapped['agecat'].value_counts()   #What age ranges are in this dataset"
   ]
  },
  {
   "cell_type": "code",
   "execution_count": 334,
   "metadata": {},
   "outputs": [
    {
     "data": {
      "image/png": "[encoded data removed]",
      "text/plain": [
       "<Figure size 432x288 with 1 Axes>"
      ]
     },
     "metadata": {},
     "output_type": "display_data"
    },
    {
     "data": {
      "image/png": "[encoded data removed]",
      "text/plain": [
       "<Figure size 432x288 with 1 Axes>"
      ]
     },
     "metadata": {},
     "output_type": "display_data"
    },
    {
     "data": {
      "image/png": "[encoded data removed]",
      "text/plain": [
       "<Figure size 432x288 with 1 Axes>"
      ]
     },
     "metadata": {},
     "output_type": "display_data"
    },
    {
     "data": {
      "image/png": "[encoded data removed]",
      "text/plain": [
       "<Figure size 432x288 with 1 Axes>"
      ]
     },
     "metadata": {},
     "output_type": "display_data"
    },
    {
     "data": {
      "image/png": "[encoded data removed]",
      "text/plain": [
       "<Figure size 432x288 with 1 Axes>"
      ]
     },
     "metadata": {},
     "output_type": "display_data"
    },
    {
     "data": {
      "image/png": "[encoded data removed]",
      "text/plain": [
       "<Figure size 432x288 with 1 Axes>"
      ]
     },
     "metadata": {},
     "output_type": "display_data"
    }
   ],
   "source": [
    "#Plotting some interesting variables\n",
    "\n",
    "variable_dict = {\"PPGENDER\": \"Gender\", \"PPETHM\": \"Race/Ethnicity\", \"PPREG4\": \"Census Region\", \"fpl\":\"Povery Status (FPL)\", \"generation\":\"Generation\", \"PPMARIT\":\"Marital Status\"}\n",
    "\n",
    "def createHistogram(dict):\n",
    "    \n",
    "    for key in dict:\n",
    "        plt.figure()\n",
    "        fig = sns.countplot(df_mapped[key])\n",
    "        fig.set_title(dict[key])\n",
    "        fig.set_xlabel('')\n",
    "        plt.xticks(rotation=30)\n",
    "        \n",
    "        \n",
    "createHistogram(variable_dict)        \n"
   ]
  },
  {
   "cell_type": "code",
   "execution_count": 335,
   "metadata": {},
   "outputs": [],
   "source": [
    "#Lets look at some specific demographic cohorts\n",
    "\n",
    "df_females = df_mapped.loc[df_mapped['PPGENDER'] == \"Female\"]\n",
    "df_males = df_mapped.loc[df_mapped['PPGENDER'] == \"Male\"]\n",
    "\n",
    "df_white = df_mapped.loc[df_mapped['PPETHM'] == \"White, Non-Hispanic\"]\n",
    "df_black_or_hispanic = df_mapped.loc[(df_mapped['PPETHM'] == \"Black, Non-Hispanic\") | (df_mapped['PPETHM'] == \"Hispanic\")]\n",
    "\n",
    "df_millenials = df_mapped.loc[df_mapped['generation'] == \"Millennial\"]\n",
    "df_boomers = df_mapped.loc[df_mapped['generation'] == \"Boomer\"]"
   ]
  },
  {
   "cell_type": "code",
   "execution_count": 336,
   "metadata": {},
   "outputs": [],
   "source": [
    "#Function for generating these plots\n",
    "variable_dict_demographics = {\"PPREG4\": \"Census Region\", \"PPMARIT\":\"Marital Status\", \"fpl\":\"Poverty Status (FPL)\"}\n",
    "def createHistogramDemographic(df_a, df_b, dict, legend_tuple):\n",
    "\n",
    "    for variable in variable_dict_demographics.keys():\n",
    "        \n",
    "        df_1 = df_a[variable]\n",
    "        df_2 = df_b[variable]\n",
    "    \n",
    "        plt.figure()\n",
    "        ax = plt.hist([df_1, df_2], color = ['r', 'b'], histtype=\"barstacked\")\n",
    "        plt.legend(legend_tuple)\n",
    "        variable_name = dict[variable]\n",
    "        plt.title(dict[variable])\n",
    "        plt.xticks(rotation=30)\n",
    "\n"
   ]
  },
  {
   "cell_type": "code",
   "execution_count": 337,
   "metadata": {},
   "outputs": [
    {
     "name": "stderr",
     "output_type": "stream",
     "text": [
      "/Users/Sarah/miniconda3/lib/python3.6/site-packages/numpy/core/fromnumeric.py:52: FutureWarning: reshape is deprecated and will raise in a subsequent release. Please use .values.reshape(...) instead\n",
      "  return getattr(obj, method)(*args, **kwds)\n"
     ]
    },
    {
     "data": {
      "image/png": "[encoded data removed]",
      "text/plain": [
       "<Figure size 432x288 with 1 Axes>"
      ]
     },
     "metadata": {},
     "output_type": "display_data"
    },
    {
     "data": {
      "image/png": "[encoded data removed]",
      "text/plain": [
       "<Figure size 432x288 with 1 Axes>"
      ]
     },
     "metadata": {},
     "output_type": "display_data"
    },
    {
     "data": {
      "image/png": "[encoded data removed]",
      "text/plain": [
       "<Figure size 432x288 with 1 Axes>"
      ]
     },
     "metadata": {},
     "output_type": "display_data"
    }
   ],
   "source": [
    "\n",
    "\n",
    "createHistogramDemographic(df_females, df_males, variable_dict_demographics, (\"Female\", \"Male\"))"
   ]
  },
  {
   "cell_type": "code",
   "execution_count": 338,
   "metadata": {},
   "outputs": [
    {
     "name": "stderr",
     "output_type": "stream",
     "text": [
      "/Users/Sarah/miniconda3/lib/python3.6/site-packages/numpy/core/fromnumeric.py:52: FutureWarning: reshape is deprecated and will raise in a subsequent release. Please use .values.reshape(...) instead\n",
      "  return getattr(obj, method)(*args, **kwds)\n"
     ]
    },
    {
     "data": {
      "image/png": "[encoded data removed]",
      "text/plain": [
       "<Figure size 432x288 with 1 Axes>"
      ]
     },
     "metadata": {},
     "output_type": "display_data"
    },
    {
     "data": {
      "image/png": "[encoded data removed]",
      "text/plain": [
       "<Figure size 432x288 with 1 Axes>"
      ]
     },
     "metadata": {},
     "output_type": "display_data"
    },
    {
     "data": {
      "image/png": "[encoded data removed]",
      "text/plain": [
       "<Figure size 432x288 with 1 Axes>"
      ]
     },
     "metadata": {},
     "output_type": "display_data"
    }
   ],
   "source": [
    "createHistogramDemographic(df_white, df_black_or_hispanic, variable_dict_demographics, (\"White\", \"Minority\"))"
   ]
  },
  {
   "cell_type": "code",
   "execution_count": 339,
   "metadata": {},
   "outputs": [
    {
     "name": "stderr",
     "output_type": "stream",
     "text": [
      "/Users/Sarah/miniconda3/lib/python3.6/site-packages/numpy/core/fromnumeric.py:52: FutureWarning: reshape is deprecated and will raise in a subsequent release. Please use .values.reshape(...) instead\n",
      "  return getattr(obj, method)(*args, **kwds)\n"
     ]
    },
    {
     "data": {
      "image/png": "[encoded data removed]",
      "text/plain": [
       "<Figure size 432x288 with 1 Axes>"
      ]
     },
     "metadata": {},
     "output_type": "display_data"
    },
    {
     "data": {
      "image/png": "[encoded data removed]",
      "text/plain": [
       "<Figure size 432x288 with 1 Axes>"
      ]
     },
     "metadata": {},
     "output_type": "display_data"
    },
    {
     "data": {
      "image/png": "[encoded data removed]",
      "text/plain": [
       "<Figure size 432x288 with 1 Axes>"
      ]
     },
     "metadata": {},
     "output_type": "display_data"
    }
   ],
   "source": [
    "createHistogramDemographic(df_millenials, df_boomers, variable_dict_demographics, (\"Millenials\", \"Boomers\"))"
   ]
  },
  {
   "cell_type": "code",
   "execution_count": 340,
   "metadata": {},
   "outputs": [
    {
     "data": {
      "text/html": [
       "<div>\n",
       "<style scoped>\n",
       "    .dataframe tbody tr th:only-of-type {\n",
       "        vertical-align: middle;\n",
       "    }\n",
       "\n",
       "    .dataframe tbody tr th {\n",
       "        vertical-align: top;\n",
       "    }\n",
       "\n",
       "    .dataframe thead th {\n",
       "        text-align: right;\n",
       "    }\n",
       "</style>\n",
       "<table border=\"1\" class=\"dataframe\">\n",
       "  <thead>\n",
       "    <tr style=\"text-align: right;\">\n",
       "      <th></th>\n",
       "      <th>fpl</th>\n",
       "      <th>SWB_1</th>\n",
       "      <th>SWB_2</th>\n",
       "      <th>SWB_3</th>\n",
       "      <th>FWBscore</th>\n",
       "      <th>FWB1_1</th>\n",
       "      <th>FWB1_2</th>\n",
       "      <th>FWB1_3</th>\n",
       "      <th>FWB1_4</th>\n",
       "      <th>FWB1_5</th>\n",
       "      <th>...</th>\n",
       "      <th>PPMARIT</th>\n",
       "      <th>PPMSACAT</th>\n",
       "      <th>PPREG4</th>\n",
       "      <th>PPREG9</th>\n",
       "      <th>PPT01</th>\n",
       "      <th>PPT25</th>\n",
       "      <th>PPT612</th>\n",
       "      <th>PPT1317</th>\n",
       "      <th>PPT18OV</th>\n",
       "      <th>PCTLT200FPL</th>\n",
       "    </tr>\n",
       "  </thead>\n",
       "  <tbody>\n",
       "    <tr>\n",
       "      <th>0</th>\n",
       "      <td>3</td>\n",
       "      <td>5</td>\n",
       "      <td>5</td>\n",
       "      <td>6</td>\n",
       "      <td>55</td>\n",
       "      <td>3</td>\n",
       "      <td>3</td>\n",
       "      <td>3</td>\n",
       "      <td>3</td>\n",
       "      <td>2</td>\n",
       "      <td>...</td>\n",
       "      <td>3</td>\n",
       "      <td>1</td>\n",
       "      <td>4</td>\n",
       "      <td>8</td>\n",
       "      <td>0</td>\n",
       "      <td>0</td>\n",
       "      <td>0</td>\n",
       "      <td>0</td>\n",
       "      <td>1</td>\n",
       "      <td>0</td>\n",
       "    </tr>\n",
       "    <tr>\n",
       "      <th>1</th>\n",
       "      <td>3</td>\n",
       "      <td>6</td>\n",
       "      <td>6</td>\n",
       "      <td>6</td>\n",
       "      <td>51</td>\n",
       "      <td>2</td>\n",
       "      <td>2</td>\n",
       "      <td>3</td>\n",
       "      <td>3</td>\n",
       "      <td>3</td>\n",
       "      <td>...</td>\n",
       "      <td>3</td>\n",
       "      <td>1</td>\n",
       "      <td>2</td>\n",
       "      <td>3</td>\n",
       "      <td>0</td>\n",
       "      <td>0</td>\n",
       "      <td>0</td>\n",
       "      <td>0</td>\n",
       "      <td>2</td>\n",
       "      <td>0</td>\n",
       "    </tr>\n",
       "    <tr>\n",
       "      <th>2</th>\n",
       "      <td>3</td>\n",
       "      <td>4</td>\n",
       "      <td>3</td>\n",
       "      <td>4</td>\n",
       "      <td>49</td>\n",
       "      <td>3</td>\n",
       "      <td>3</td>\n",
       "      <td>3</td>\n",
       "      <td>3</td>\n",
       "      <td>3</td>\n",
       "      <td>...</td>\n",
       "      <td>3</td>\n",
       "      <td>1</td>\n",
       "      <td>4</td>\n",
       "      <td>9</td>\n",
       "      <td>0</td>\n",
       "      <td>0</td>\n",
       "      <td>0</td>\n",
       "      <td>1</td>\n",
       "      <td>2</td>\n",
       "      <td>1</td>\n",
       "    </tr>\n",
       "    <tr>\n",
       "      <th>3</th>\n",
       "      <td>3</td>\n",
       "      <td>6</td>\n",
       "      <td>6</td>\n",
       "      <td>6</td>\n",
       "      <td>49</td>\n",
       "      <td>3</td>\n",
       "      <td>3</td>\n",
       "      <td>3</td>\n",
       "      <td>3</td>\n",
       "      <td>3</td>\n",
       "      <td>...</td>\n",
       "      <td>3</td>\n",
       "      <td>1</td>\n",
       "      <td>3</td>\n",
       "      <td>7</td>\n",
       "      <td>0</td>\n",
       "      <td>0</td>\n",
       "      <td>0</td>\n",
       "      <td>0</td>\n",
       "      <td>1</td>\n",
       "      <td>0</td>\n",
       "    </tr>\n",
       "    <tr>\n",
       "      <th>4</th>\n",
       "      <td>3</td>\n",
       "      <td>4</td>\n",
       "      <td>4</td>\n",
       "      <td>4</td>\n",
       "      <td>49</td>\n",
       "      <td>3</td>\n",
       "      <td>3</td>\n",
       "      <td>3</td>\n",
       "      <td>3</td>\n",
       "      <td>3</td>\n",
       "      <td>...</td>\n",
       "      <td>1</td>\n",
       "      <td>1</td>\n",
       "      <td>2</td>\n",
       "      <td>4</td>\n",
       "      <td>0</td>\n",
       "      <td>0</td>\n",
       "      <td>1</td>\n",
       "      <td>0</td>\n",
       "      <td>4</td>\n",
       "      <td>1</td>\n",
       "    </tr>\n",
       "  </tbody>\n",
       "</table>\n",
       "<p>5 rows × 214 columns</p>\n",
       "</div>"
      ],
      "text/plain": [
       "  fpl SWB_1 SWB_2 SWB_3 FWBscore FWB1_1 FWB1_2 FWB1_3 FWB1_4 FWB1_5  \\\n",
       "0   3     5     5     6       55      3      3      3      3      2   \n",
       "1   3     6     6     6       51      2      2      3      3      3   \n",
       "2   3     4     3     4       49      3      3      3      3      3   \n",
       "3   3     6     6     6       49      3      3      3      3      3   \n",
       "4   3     4     4     4       49      3      3      3      3      3   \n",
       "\n",
       "      ...     PPMARIT PPMSACAT PPREG4 PPREG9 PPT01 PPT25 PPT612 PPT1317  \\\n",
       "0     ...           3        1      4      8     0     0      0       0   \n",
       "1     ...           3        1      2      3     0     0      0       0   \n",
       "2     ...           3        1      4      9     0     0      0       1   \n",
       "3     ...           3        1      3      7     0     0      0       0   \n",
       "4     ...           1        1      2      4     0     0      1       0   \n",
       "\n",
       "  PPT18OV PCTLT200FPL  \n",
       "0       1           0  \n",
       "1       2           0  \n",
       "2       2           1  \n",
       "3       1           0  \n",
       "4       4           1  \n",
       "\n",
       "[5 rows x 214 columns]"
      ]
     },
     "execution_count": 340,
     "metadata": {},
     "output_type": "execute_result"
    }
   ],
   "source": [
    "#Preparing data for models\n",
    "df = df.drop(['PUF_ID', 'sample', 'finalwt'], axis=1)\n",
    "df = df.astype(str) \n",
    "\n",
    "df.head()"
   ]
  },
  {
   "cell_type": "markdown",
   "metadata": {},
   "source": [
    "### K NEAREST NEIGHBORS"
   ]
  },
  {
   "cell_type": "code",
   "execution_count": 341,
   "metadata": {},
   "outputs": [
    {
     "name": "stdout",
     "output_type": "stream",
     "text": [
      "Map for Gender Values:  {1: 'Male', 2: 'Female'}\n",
      "Map for FPL Values:  {1: '<100% FPL', 2: '100%-199% FPL', 3: '200%+ FPL'}\n"
     ]
    }
   ],
   "source": [
    "#We'll use FPL as our labels; we want the model to predict the FPL status of an individual given their survey responses\n",
    "# specifically if an indvidual is <199% FPL\n",
    "X_fpl = df.drop([\"fpl\"], axis=1)\n",
    "y_fpl = df[\"fpl\"]\n",
    "y_fpl = y_fpl.str.replace(\"2\", \"1\")\n",
    "y_fpl = y_fpl.str.replace(\"3\", \"0\")  #We'll mark individuals who are <199% FPL as \"1\"\n",
    "\n",
    "#We'll use gender as our labels; we want the model to predict the gender of an individual given their survey responses\n",
    "#specifically if the individual is female\n",
    "X_gender = df.drop([\"PPGENDER\"], axis=1)\n",
    "y_gender = df[\"PPGENDER\"]  \n",
    "y_gender = y_gender.str.replace(\"1\", \"0\")\n",
    "y_gender = y_gender.str.replace(\"2\", \"1\") \n",
    "\n",
    "\n",
    "#Reminder for what those values actually mean using the data dictionary\n",
    "print(\"Map for Gender Values: \", dict[\"PPGENDER\"])\n",
    "print(\"Map for FPL Values: \", dict[\"fpl\"])\n"
   ]
  },
  {
   "cell_type": "code",
   "execution_count": 347,
   "metadata": {},
   "outputs": [],
   "source": [
    "#Create and fit the model\n",
    "#Even though the values are numbers, they are just categorical labels, so we'll change the datatype\n",
    "\n",
    "def k_nearest_neighbors(X, y, target_name):\n",
    "    print(\"\\nPredicting individuals who are \", target_name, \"...\")\n",
    "    X = pd.get_dummies(X)\n",
    "    X_train, X_test, y_train, y_test = train_test_split(X, y, test_size = 0.2, random_state = 5, stratify = y)\n",
    "    knn = KNeighborsClassifier(n_neighbors=5)\n",
    "    knn.fit(X_train, y_train)\n",
    "    knn_pred = knn.predict(X_test)\n",
    "    print(\"Accuracy Score: \", accuracy_score(y_test, knn_pred))\n",
    "    print()\n",
    "    print(classification_report(y_test, knn_pred))\n"
   ]
  },
  {
   "cell_type": "code",
   "execution_count": 348,
   "metadata": {},
   "outputs": [
    {
     "name": "stdout",
     "output_type": "stream",
     "text": [
      "\n",
      "Predicting individuals who are  *** <199% of the Federal Poverty Line *** ...\n",
      "Accuracy Score:  0.8209538702111024\n",
      "\n",
      "             precision    recall  f1-score   support\n",
      "\n",
      "          0       0.84      0.94      0.89       975\n",
      "          1       0.70      0.43      0.53       304\n",
      "\n",
      "avg / total       0.81      0.82      0.80      1279\n",
      "\n",
      "\n",
      "Predicting individuals who are  *** Female *** ...\n",
      "Accuracy Score:  0.6293979671618452\n",
      "\n",
      "             precision    recall  f1-score   support\n",
      "\n",
      "          0       0.62      0.74      0.68       671\n",
      "          1       0.64      0.51      0.57       608\n",
      "\n",
      "avg / total       0.63      0.63      0.62      1279\n",
      "\n"
     ]
    }
   ],
   "source": [
    "k_nearest_neighbors(X_fpl, y_fpl, \"*** <199% of the Federal Poverty Line ***\")  #For predicting individuals <199% FPL\n",
    "k_nearest_neighbors(X_gender, y_gender, \"*** Female ***\")  #For predictin individuals who are female"
   ]
  },
  {
   "cell_type": "code",
   "execution_count": 344,
   "metadata": {},
   "outputs": [
    {
     "data": {
      "image/svg+xml": [
       "<?xml version=\"1.0\" encoding=\"UTF-8\" standalone=\"no\"?>\n",
       "<!DOCTYPE svg PUBLIC \"-//W3C//DTD SVG 1.1//EN\"\n",
       " \"http://www.w3.org/Graphics/SVG/1.1/DTD/svg11.dtd\">\n",
       "<!-- Generated by graphviz version 2.40.1 (20161225.0304)\n",
       " -->\n",
       "<!-- Title: Tree Pages: 1 -->\n",
       "<svg width=\"986pt\" height=\"433pt\"\n",
       " viewBox=\"0.00 0.00 986.00 433.00\" xmlns=\"http://www.w3.org/2000/svg\" xmlns:xlink=\"http://www.w3.org/1999/xlink\">\n",
       "<g id=\"graph0\" class=\"graph\" transform=\"scale(1 1) rotate(0) translate(4 429)\">\n",
       "<title>Tree</title>\n",
       "<polygon fill=\"#ffffff\" stroke=\"transparent\" points=\"-4,4 -4,-429 982,-429 982,4 -4,4\"/>\n",
       "<!-- 0 -->\n",
       "<g id=\"node1\" class=\"node\">\n",
       "<title>0</title>\n",
       "<path fill=\"#e58139\" fill-opacity=\"0.686275\" stroke=\"#000000\" d=\"M553,-425C553,-425 407,-425 407,-425 401,-425 395,-419 395,-413 395,-413 395,-354 395,-354 395,-348 401,-342 407,-342 407,-342 553,-342 553,-342 559,-342 565,-348 565,-354 565,-354 565,-413 565,-413 565,-419 559,-425 553,-425\"/>\n",
       "<text text-anchor=\"start\" x=\"403\" y=\"-409.8\" font-family=\"Helvetica,sans-Serif\" font-size=\"14.00\" fill=\"#000000\">LIVINGARRANGEMENT_2 ≤ 0.5</text>\n",
       "<text text-anchor=\"start\" x=\"452.5\" y=\"-394.8\" font-family=\"Helvetica,sans-Serif\" font-size=\"14.00\" fill=\"#000000\">gini = 0.362</text>\n",
       "<text text-anchor=\"start\" x=\"442.5\" y=\"-379.8\" font-family=\"Helvetica,sans-Serif\" font-size=\"14.00\" fill=\"#000000\">samples = 5115</text>\n",
       "<text text-anchor=\"start\" x=\"432\" y=\"-364.8\" font-family=\"Helvetica,sans-Serif\" font-size=\"14.00\" fill=\"#000000\">value = [3899, 1216]</text>\n",
       "<text text-anchor=\"start\" x=\"434\" y=\"-349.8\" font-family=\"Helvetica,sans-Serif\" font-size=\"14.00\" fill=\"#000000\">class = 200%+ FPL</text>\n",
       "</g>\n",
       "<!-- 1 -->\n",
       "<g id=\"node2\" class=\"node\">\n",
       "<title>1</title>\n",
       "<path fill=\"#e58139\" fill-opacity=\"0.431373\" stroke=\"#000000\" d=\"M405.5,-306C405.5,-306 316.5,-306 316.5,-306 310.5,-306 304.5,-300 304.5,-294 304.5,-294 304.5,-235 304.5,-235 304.5,-229 310.5,-223 316.5,-223 316.5,-223 405.5,-223 405.5,-223 411.5,-223 417.5,-229 417.5,-235 417.5,-235 417.5,-294 417.5,-294 417.5,-300 411.5,-306 405.5,-306\"/>\n",
       "<text text-anchor=\"start\" x=\"312.5\" y=\"-290.8\" font-family=\"Helvetica,sans-Serif\" font-size=\"14.00\" fill=\"#000000\">GOALCONF_4 ≤ 0.5</text>\n",
       "<text text-anchor=\"start\" x=\"333.5\" y=\"-275.8\" font-family=\"Helvetica,sans-Serif\" font-size=\"14.00\" fill=\"#000000\">gini = 0.462</text>\n",
       "<text text-anchor=\"start\" x=\"323.5\" y=\"-260.8\" font-family=\"Helvetica,sans-Serif\" font-size=\"14.00\" fill=\"#000000\">samples = 1741</text>\n",
       "<text text-anchor=\"start\" x=\"316\" y=\"-245.8\" font-family=\"Helvetica,sans-Serif\" font-size=\"14.00\" fill=\"#000000\">value = [1110, 631]</text>\n",
       "<text text-anchor=\"start\" x=\"315\" y=\"-230.8\" font-family=\"Helvetica,sans-Serif\" font-size=\"14.00\" fill=\"#000000\">class = 200%+ FPL</text>\n",
       "</g>\n",
       "<!-- 0&#45;&gt;1 -->\n",
       "<g id=\"edge1\" class=\"edge\">\n",
       "<title>0&#45;&gt;1</title>\n",
       "<path fill=\"none\" stroke=\"#000000\" d=\"M438.3796,-341.8796C429.1931,-332.6931 419.3798,-322.8798 409.9336,-313.4336\"/>\n",
       "<polygon fill=\"#000000\" stroke=\"#000000\" points=\"412.3441,-310.8943 402.7981,-306.2981 407.3943,-315.8441 412.3441,-310.8943\"/>\n",
       "<text text-anchor=\"middle\" x=\"402.7981\" y=\"-327.5981\" font-family=\"Helvetica,sans-Serif\" font-size=\"14.00\" fill=\"#000000\">True</text>\n",
       "</g>\n",
       "<!-- 8 -->\n",
       "<g id=\"node9\" class=\"node\">\n",
       "<title>8</title>\n",
       "<path fill=\"#e58139\" fill-opacity=\"0.792157\" stroke=\"#000000\" d=\"M650.5,-306C650.5,-306 561.5,-306 561.5,-306 555.5,-306 549.5,-300 549.5,-294 549.5,-294 549.5,-235 549.5,-235 549.5,-229 555.5,-223 561.5,-223 561.5,-223 650.5,-223 650.5,-223 656.5,-223 662.5,-229 662.5,-235 662.5,-235 662.5,-294 662.5,-294 662.5,-300 656.5,-306 650.5,-306\"/>\n",
       "<text text-anchor=\"start\" x=\"557.5\" y=\"-290.8\" font-family=\"Helvetica,sans-Serif\" font-size=\"14.00\" fill=\"#000000\">GOALCONF_4 ≤ 0.5</text>\n",
       "<text text-anchor=\"start\" x=\"578.5\" y=\"-275.8\" font-family=\"Helvetica,sans-Serif\" font-size=\"14.00\" fill=\"#000000\">gini = 0.287</text>\n",
       "<text text-anchor=\"start\" x=\"568.5\" y=\"-260.8\" font-family=\"Helvetica,sans-Serif\" font-size=\"14.00\" fill=\"#000000\">samples = 3374</text>\n",
       "<text text-anchor=\"start\" x=\"561\" y=\"-245.8\" font-family=\"Helvetica,sans-Serif\" font-size=\"14.00\" fill=\"#000000\">value = [2789, 585]</text>\n",
       "<text text-anchor=\"start\" x=\"560\" y=\"-230.8\" font-family=\"Helvetica,sans-Serif\" font-size=\"14.00\" fill=\"#000000\">class = 200%+ FPL</text>\n",
       "</g>\n",
       "<!-- 0&#45;&gt;8 -->\n",
       "<g id=\"edge8\" class=\"edge\">\n",
       "<title>0&#45;&gt;8</title>\n",
       "<path fill=\"none\" stroke=\"#000000\" d=\"M524.0687,-341.8796C533.7955,-332.6931 544.1861,-322.8798 554.1879,-313.4336\"/>\n",
       "<polygon fill=\"#000000\" stroke=\"#000000\" points=\"556.8763,-315.7089 561.7432,-306.2981 552.0699,-310.6198 556.8763,-315.7089\"/>\n",
       "<text text-anchor=\"middle\" x=\"561.0292\" y=\"-327.5879\" font-family=\"Helvetica,sans-Serif\" font-size=\"14.00\" fill=\"#000000\">False</text>\n",
       "</g>\n",
       "<!-- 2 -->\n",
       "<g id=\"node3\" class=\"node\">\n",
       "<title>2</title>\n",
       "<path fill=\"#e58139\" fill-opacity=\"0.294118\" stroke=\"#000000\" d=\"M221.5,-187C221.5,-187 132.5,-187 132.5,-187 126.5,-187 120.5,-181 120.5,-175 120.5,-175 120.5,-116 120.5,-116 120.5,-110 126.5,-104 132.5,-104 132.5,-104 221.5,-104 221.5,-104 227.5,-104 233.5,-110 233.5,-116 233.5,-116 233.5,-175 233.5,-175 233.5,-181 227.5,-187 221.5,-187\"/>\n",
       "<text text-anchor=\"start\" x=\"128.5\" y=\"-171.8\" font-family=\"Helvetica,sans-Serif\" font-size=\"14.00\" fill=\"#000000\">GOALCONF_1 ≤ 0.5</text>\n",
       "<text text-anchor=\"start\" x=\"149.5\" y=\"-156.8\" font-family=\"Helvetica,sans-Serif\" font-size=\"14.00\" fill=\"#000000\">gini = 0.485</text>\n",
       "<text text-anchor=\"start\" x=\"139.5\" y=\"-141.8\" font-family=\"Helvetica,sans-Serif\" font-size=\"14.00\" fill=\"#000000\">samples = 1195</text>\n",
       "<text text-anchor=\"start\" x=\"135\" y=\"-126.8\" font-family=\"Helvetica,sans-Serif\" font-size=\"14.00\" fill=\"#000000\">value = [700, 495]</text>\n",
       "<text text-anchor=\"start\" x=\"131\" y=\"-111.8\" font-family=\"Helvetica,sans-Serif\" font-size=\"14.00\" fill=\"#000000\">class = 200%+ FPL</text>\n",
       "</g>\n",
       "<!-- 1&#45;&gt;2 -->\n",
       "<g id=\"edge2\" class=\"edge\">\n",
       "<title>1&#45;&gt;2</title>\n",
       "<path fill=\"none\" stroke=\"#000000\" d=\"M304.2926,-227.8251C284.6127,-215.0973 262.3933,-200.7272 242.0909,-187.5968\"/>\n",
       "<polygon fill=\"#000000\" stroke=\"#000000\" points=\"243.8179,-184.5456 233.5202,-182.0538 240.0164,-190.4234 243.8179,-184.5456\"/>\n",
       "</g>\n",
       "<!-- 5 -->\n",
       "<g id=\"node6\" class=\"node\">\n",
       "<title>5</title>\n",
       "<path fill=\"#e58139\" fill-opacity=\"0.666667\" stroke=\"#000000\" d=\"M405.5,-187C405.5,-187 316.5,-187 316.5,-187 310.5,-187 304.5,-181 304.5,-175 304.5,-175 304.5,-116 304.5,-116 304.5,-110 310.5,-104 316.5,-104 316.5,-104 405.5,-104 405.5,-104 411.5,-104 417.5,-110 417.5,-116 417.5,-116 417.5,-175 417.5,-175 417.5,-181 411.5,-187 405.5,-187\"/>\n",
       "<text text-anchor=\"start\" x=\"312.5\" y=\"-171.8\" font-family=\"Helvetica,sans-Serif\" font-size=\"14.00\" fill=\"#000000\">KHKNOWL7_1 ≤ 0.5</text>\n",
       "<text text-anchor=\"start\" x=\"333.5\" y=\"-156.8\" font-family=\"Helvetica,sans-Serif\" font-size=\"14.00\" fill=\"#000000\">gini = 0.374</text>\n",
       "<text text-anchor=\"start\" x=\"326.5\" y=\"-141.8\" font-family=\"Helvetica,sans-Serif\" font-size=\"14.00\" fill=\"#000000\">samples = 546</text>\n",
       "<text text-anchor=\"start\" x=\"319\" y=\"-126.8\" font-family=\"Helvetica,sans-Serif\" font-size=\"14.00\" fill=\"#000000\">value = [410, 136]</text>\n",
       "<text text-anchor=\"start\" x=\"315\" y=\"-111.8\" font-family=\"Helvetica,sans-Serif\" font-size=\"14.00\" fill=\"#000000\">class = 200%+ FPL</text>\n",
       "</g>\n",
       "<!-- 1&#45;&gt;5 -->\n",
       "<g id=\"edge5\" class=\"edge\">\n",
       "<title>1&#45;&gt;5</title>\n",
       "<path fill=\"none\" stroke=\"#000000\" d=\"M361,-222.8796C361,-214.6838 361,-205.9891 361,-197.5013\"/>\n",
       "<polygon fill=\"#000000\" stroke=\"#000000\" points=\"364.5001,-197.298 361,-187.2981 357.5001,-197.2981 364.5001,-197.298\"/>\n",
       "</g>\n",
       "<!-- 3 -->\n",
       "<g id=\"node4\" class=\"node\">\n",
       "<title>3</title>\n",
       "<path fill=\"#e58139\" fill-opacity=\"0.341176\" stroke=\"#000000\" d=\"M96,-68C96,-68 12,-68 12,-68 6,-68 0,-62 0,-56 0,-56 0,-12 0,-12 0,-6 6,0 12,0 12,0 96,0 96,0 102,0 108,-6 108,-12 108,-12 108,-56 108,-56 108,-62 102,-68 96,-68\"/>\n",
       "<text text-anchor=\"start\" x=\"26.5\" y=\"-52.8\" font-family=\"Helvetica,sans-Serif\" font-size=\"14.00\" fill=\"#000000\">gini = 0.479</text>\n",
       "<text text-anchor=\"start\" x=\"16.5\" y=\"-37.8\" font-family=\"Helvetica,sans-Serif\" font-size=\"14.00\" fill=\"#000000\">samples = 1141</text>\n",
       "<text text-anchor=\"start\" x=\"12\" y=\"-22.8\" font-family=\"Helvetica,sans-Serif\" font-size=\"14.00\" fill=\"#000000\">value = [688, 453]</text>\n",
       "<text text-anchor=\"start\" x=\"8\" y=\"-7.8\" font-family=\"Helvetica,sans-Serif\" font-size=\"14.00\" fill=\"#000000\">class = 200%+ FPL</text>\n",
       "</g>\n",
       "<!-- 2&#45;&gt;3 -->\n",
       "<g id=\"edge3\" class=\"edge\">\n",
       "<title>2&#45;&gt;3</title>\n",
       "<path fill=\"none\" stroke=\"#000000\" d=\"M131.1993,-103.9815C120.7566,-94.5151 109.6667,-84.462 99.2472,-75.0168\"/>\n",
       "<polygon fill=\"#000000\" stroke=\"#000000\" points=\"101.5572,-72.3868 91.7976,-68.2637 96.8559,-77.5731 101.5572,-72.3868\"/>\n",
       "</g>\n",
       "<!-- 4 -->\n",
       "<g id=\"node5\" class=\"node\">\n",
       "<title>4</title>\n",
       "<path fill=\"#399de5\" fill-opacity=\"0.713725\" stroke=\"#000000\" d=\"M215.5,-68C215.5,-68 138.5,-68 138.5,-68 132.5,-68 126.5,-62 126.5,-56 126.5,-56 126.5,-12 126.5,-12 126.5,-6 132.5,0 138.5,0 138.5,0 215.5,0 215.5,0 221.5,0 227.5,-6 227.5,-12 227.5,-12 227.5,-56 227.5,-56 227.5,-62 221.5,-68 215.5,-68\"/>\n",
       "<text text-anchor=\"start\" x=\"149.5\" y=\"-52.8\" font-family=\"Helvetica,sans-Serif\" font-size=\"14.00\" fill=\"#000000\">gini = 0.346</text>\n",
       "<text text-anchor=\"start\" x=\"145.5\" y=\"-37.8\" font-family=\"Helvetica,sans-Serif\" font-size=\"14.00\" fill=\"#000000\">samples = 54</text>\n",
       "<text text-anchor=\"start\" x=\"140.5\" y=\"-22.8\" font-family=\"Helvetica,sans-Serif\" font-size=\"14.00\" fill=\"#000000\">value = [12, 42]</text>\n",
       "<text text-anchor=\"start\" x=\"134.5\" y=\"-7.8\" font-family=\"Helvetica,sans-Serif\" font-size=\"14.00\" fill=\"#000000\">class = 199% FPL</text>\n",
       "</g>\n",
       "<!-- 2&#45;&gt;4 -->\n",
       "<g id=\"edge4\" class=\"edge\">\n",
       "<title>2&#45;&gt;4</title>\n",
       "<path fill=\"none\" stroke=\"#000000\" d=\"M177,-103.9815C177,-95.618 177,-86.7965 177,-78.3409\"/>\n",
       "<polygon fill=\"#000000\" stroke=\"#000000\" points=\"180.5001,-78.2636 177,-68.2637 173.5001,-78.2637 180.5001,-78.2636\"/>\n",
       "</g>\n",
       "<!-- 6 -->\n",
       "<g id=\"node7\" class=\"node\">\n",
       "<title>6</title>\n",
       "<path fill=\"#e58139\" fill-opacity=\"0.709804\" stroke=\"#000000\" d=\"M342,-68C342,-68 258,-68 258,-68 252,-68 246,-62 246,-56 246,-56 246,-12 246,-12 246,-6 252,0 258,0 258,0 342,0 342,0 348,0 354,-6 354,-12 354,-12 354,-56 354,-56 354,-62 348,-68 342,-68\"/>\n",
       "<text text-anchor=\"start\" x=\"272.5\" y=\"-52.8\" font-family=\"Helvetica,sans-Serif\" font-size=\"14.00\" fill=\"#000000\">gini = 0.348</text>\n",
       "<text text-anchor=\"start\" x=\"265.5\" y=\"-37.8\" font-family=\"Helvetica,sans-Serif\" font-size=\"14.00\" fill=\"#000000\">samples = 518</text>\n",
       "<text text-anchor=\"start\" x=\"258\" y=\"-22.8\" font-family=\"Helvetica,sans-Serif\" font-size=\"14.00\" fill=\"#000000\">value = [402, 116]</text>\n",
       "<text text-anchor=\"start\" x=\"254\" y=\"-7.8\" font-family=\"Helvetica,sans-Serif\" font-size=\"14.00\" fill=\"#000000\">class = 200%+ FPL</text>\n",
       "</g>\n",
       "<!-- 5&#45;&gt;6 -->\n",
       "<g id=\"edge6\" class=\"edge\">\n",
       "<title>5&#45;&gt;6</title>\n",
       "<path fill=\"none\" stroke=\"#000000\" d=\"M338.2859,-103.9815C333.5092,-95.2504 328.4595,-86.0202 323.6494,-77.2281\"/>\n",
       "<polygon fill=\"#000000\" stroke=\"#000000\" points=\"326.6153,-75.3568 318.7451,-68.2637 320.4742,-78.7165 326.6153,-75.3568\"/>\n",
       "</g>\n",
       "<!-- 7 -->\n",
       "<g id=\"node8\" class=\"node\">\n",
       "<title>7</title>\n",
       "<path fill=\"#399de5\" fill-opacity=\"0.600000\" stroke=\"#000000\" d=\"M461.5,-68C461.5,-68 384.5,-68 384.5,-68 378.5,-68 372.5,-62 372.5,-56 372.5,-56 372.5,-12 372.5,-12 372.5,-6 378.5,0 384.5,0 384.5,0 461.5,0 461.5,0 467.5,0 473.5,-6 473.5,-12 473.5,-12 473.5,-56 473.5,-56 473.5,-62 467.5,-68 461.5,-68\"/>\n",
       "<text text-anchor=\"start\" x=\"395.5\" y=\"-52.8\" font-family=\"Helvetica,sans-Serif\" font-size=\"14.00\" fill=\"#000000\">gini = 0.408</text>\n",
       "<text text-anchor=\"start\" x=\"391.5\" y=\"-37.8\" font-family=\"Helvetica,sans-Serif\" font-size=\"14.00\" fill=\"#000000\">samples = 28</text>\n",
       "<text text-anchor=\"start\" x=\"389.5\" y=\"-22.8\" font-family=\"Helvetica,sans-Serif\" font-size=\"14.00\" fill=\"#000000\">value = [8, 20]</text>\n",
       "<text text-anchor=\"start\" x=\"380.5\" y=\"-7.8\" font-family=\"Helvetica,sans-Serif\" font-size=\"14.00\" fill=\"#000000\">class = 199% FPL</text>\n",
       "</g>\n",
       "<!-- 5&#45;&gt;7 -->\n",
       "<g id=\"edge7\" class=\"edge\">\n",
       "<title>5&#45;&gt;7</title>\n",
       "<path fill=\"none\" stroke=\"#000000\" d=\"M384.0865,-103.9815C388.9415,-95.2504 394.074,-86.0202 398.9629,-77.2281\"/>\n",
       "<polygon fill=\"#000000\" stroke=\"#000000\" points=\"402.1467,-78.7043 403.9476,-68.2637 396.0288,-75.3025 402.1467,-78.7043\"/>\n",
       "</g>\n",
       "<!-- 9 -->\n",
       "<g id=\"node10\" class=\"node\">\n",
       "<title>9</title>\n",
       "<path fill=\"#e58139\" fill-opacity=\"0.694118\" stroke=\"#000000\" d=\"M650.5,-187C650.5,-187 561.5,-187 561.5,-187 555.5,-187 549.5,-181 549.5,-175 549.5,-175 549.5,-116 549.5,-116 549.5,-110 555.5,-104 561.5,-104 561.5,-104 650.5,-104 650.5,-104 656.5,-104 662.5,-110 662.5,-116 662.5,-116 662.5,-175 662.5,-175 662.5,-181 656.5,-187 650.5,-187\"/>\n",
       "<text text-anchor=\"start\" x=\"557.5\" y=\"-171.8\" font-family=\"Helvetica,sans-Serif\" font-size=\"14.00\" fill=\"#000000\">GOALCONF_3 ≤ 0.5</text>\n",
       "<text text-anchor=\"start\" x=\"578.5\" y=\"-156.8\" font-family=\"Helvetica,sans-Serif\" font-size=\"14.00\" fill=\"#000000\">gini = 0.359</text>\n",
       "<text text-anchor=\"start\" x=\"568.5\" y=\"-141.8\" font-family=\"Helvetica,sans-Serif\" font-size=\"14.00\" fill=\"#000000\">samples = 1939</text>\n",
       "<text text-anchor=\"start\" x=\"561\" y=\"-126.8\" font-family=\"Helvetica,sans-Serif\" font-size=\"14.00\" fill=\"#000000\">value = [1485, 454]</text>\n",
       "<text text-anchor=\"start\" x=\"560\" y=\"-111.8\" font-family=\"Helvetica,sans-Serif\" font-size=\"14.00\" fill=\"#000000\">class = 200%+ FPL</text>\n",
       "</g>\n",
       "<!-- 8&#45;&gt;9 -->\n",
       "<g id=\"edge9\" class=\"edge\">\n",
       "<title>8&#45;&gt;9</title>\n",
       "<path fill=\"none\" stroke=\"#000000\" d=\"M606,-222.8796C606,-214.6838 606,-205.9891 606,-197.5013\"/>\n",
       "<polygon fill=\"#000000\" stroke=\"#000000\" points=\"609.5001,-197.298 606,-187.2981 602.5001,-197.2981 609.5001,-197.298\"/>\n",
       "</g>\n",
       "<!-- 12 -->\n",
       "<g id=\"node13\" class=\"node\">\n",
       "<title>12</title>\n",
       "<path fill=\"#e58139\" fill-opacity=\"0.898039\" stroke=\"#000000\" d=\"M842.5,-187C842.5,-187 753.5,-187 753.5,-187 747.5,-187 741.5,-181 741.5,-175 741.5,-175 741.5,-116 741.5,-116 741.5,-110 747.5,-104 753.5,-104 753.5,-104 842.5,-104 842.5,-104 848.5,-104 854.5,-110 854.5,-116 854.5,-116 854.5,-175 854.5,-175 854.5,-181 848.5,-187 842.5,-187\"/>\n",
       "<text text-anchor=\"start\" x=\"749.5\" y=\"-171.8\" font-family=\"Helvetica,sans-Serif\" font-size=\"14.00\" fill=\"#000000\">KHKNOWL7_1 ≤ 0.5</text>\n",
       "<text text-anchor=\"start\" x=\"770.5\" y=\"-156.8\" font-family=\"Helvetica,sans-Serif\" font-size=\"14.00\" fill=\"#000000\">gini = 0.166</text>\n",
       "<text text-anchor=\"start\" x=\"760.5\" y=\"-141.8\" font-family=\"Helvetica,sans-Serif\" font-size=\"14.00\" fill=\"#000000\">samples = 1435</text>\n",
       "<text text-anchor=\"start\" x=\"753\" y=\"-126.8\" font-family=\"Helvetica,sans-Serif\" font-size=\"14.00\" fill=\"#000000\">value = [1304, 131]</text>\n",
       "<text text-anchor=\"start\" x=\"752\" y=\"-111.8\" font-family=\"Helvetica,sans-Serif\" font-size=\"14.00\" fill=\"#000000\">class = 200%+ FPL</text>\n",
       "</g>\n",
       "<!-- 8&#45;&gt;12 -->\n",
       "<g id=\"edge12\" class=\"edge\">\n",
       "<title>8&#45;&gt;12</title>\n",
       "<path fill=\"none\" stroke=\"#000000\" d=\"M662.5679,-229.4397C684.5389,-215.8222 709.8452,-200.1376 732.5925,-186.039\"/>\n",
       "<polygon fill=\"#000000\" stroke=\"#000000\" points=\"734.517,-188.964 741.173,-180.7209 730.8293,-183.0141 734.517,-188.964\"/>\n",
       "</g>\n",
       "<!-- 10 -->\n",
       "<g id=\"node11\" class=\"node\">\n",
       "<title>10</title>\n",
       "<path fill=\"#e58139\" fill-opacity=\"0.294118\" stroke=\"#000000\" d=\"M588,-68C588,-68 504,-68 504,-68 498,-68 492,-62 492,-56 492,-56 492,-12 492,-12 492,-6 498,0 504,0 504,0 588,0 588,0 594,0 600,-6 600,-12 600,-12 600,-56 600,-56 600,-62 594,-68 588,-68\"/>\n",
       "<text text-anchor=\"start\" x=\"518.5\" y=\"-52.8\" font-family=\"Helvetica,sans-Serif\" font-size=\"14.00\" fill=\"#000000\">gini = 0.485</text>\n",
       "<text text-anchor=\"start\" x=\"511.5\" y=\"-37.8\" font-family=\"Helvetica,sans-Serif\" font-size=\"14.00\" fill=\"#000000\">samples = 377</text>\n",
       "<text text-anchor=\"start\" x=\"504\" y=\"-22.8\" font-family=\"Helvetica,sans-Serif\" font-size=\"14.00\" fill=\"#000000\">value = [221, 156]</text>\n",
       "<text text-anchor=\"start\" x=\"500\" y=\"-7.8\" font-family=\"Helvetica,sans-Serif\" font-size=\"14.00\" fill=\"#000000\">class = 200%+ FPL</text>\n",
       "</g>\n",
       "<!-- 9&#45;&gt;10 -->\n",
       "<g id=\"edge10\" class=\"edge\">\n",
       "<title>9&#45;&gt;10</title>\n",
       "<path fill=\"none\" stroke=\"#000000\" d=\"M583.6582,-103.9815C578.9598,-95.2504 573.9929,-86.0202 569.2617,-77.2281\"/>\n",
       "<polygon fill=\"#000000\" stroke=\"#000000\" points=\"572.2586,-75.4111 564.4379,-68.2637 566.0944,-78.7282 572.2586,-75.4111\"/>\n",
       "</g>\n",
       "<!-- 11 -->\n",
       "<g id=\"node12\" class=\"node\">\n",
       "<title>11</title>\n",
       "<path fill=\"#e58139\" fill-opacity=\"0.764706\" stroke=\"#000000\" d=\"M714,-68C714,-68 630,-68 630,-68 624,-68 618,-62 618,-56 618,-56 618,-12 618,-12 618,-6 624,0 630,0 630,0 714,0 714,0 720,0 726,-6 726,-12 726,-12 726,-56 726,-56 726,-62 720,-68 714,-68\"/>\n",
       "<text text-anchor=\"start\" x=\"644.5\" y=\"-52.8\" font-family=\"Helvetica,sans-Serif\" font-size=\"14.00\" fill=\"#000000\">gini = 0.309</text>\n",
       "<text text-anchor=\"start\" x=\"634.5\" y=\"-37.8\" font-family=\"Helvetica,sans-Serif\" font-size=\"14.00\" fill=\"#000000\">samples = 1562</text>\n",
       "<text text-anchor=\"start\" x=\"627\" y=\"-22.8\" font-family=\"Helvetica,sans-Serif\" font-size=\"14.00\" fill=\"#000000\">value = [1264, 298]</text>\n",
       "<text text-anchor=\"start\" x=\"626\" y=\"-7.8\" font-family=\"Helvetica,sans-Serif\" font-size=\"14.00\" fill=\"#000000\">class = 200%+ FPL</text>\n",
       "</g>\n",
       "<!-- 9&#45;&gt;11 -->\n",
       "<g id=\"edge11\" class=\"edge\">\n",
       "<title>9&#45;&gt;11</title>\n",
       "<path fill=\"none\" stroke=\"#000000\" d=\"M630.576,-103.9815C635.7986,-95.1585 641.3229,-85.8258 646.5763,-76.9506\"/>\n",
       "<polygon fill=\"#000000\" stroke=\"#000000\" points=\"649.6364,-78.652 651.7184,-68.2637 643.6126,-75.0863 649.6364,-78.652\"/>\n",
       "</g>\n",
       "<!-- 13 -->\n",
       "<g id=\"node14\" class=\"node\">\n",
       "<title>13</title>\n",
       "<path fill=\"#e58139\" fill-opacity=\"0.905882\" stroke=\"#000000\" d=\"M840,-68C840,-68 756,-68 756,-68 750,-68 744,-62 744,-56 744,-56 744,-12 744,-12 744,-6 750,0 756,0 756,0 840,0 840,0 846,0 852,-6 852,-12 852,-12 852,-56 852,-56 852,-62 846,-68 840,-68\"/>\n",
       "<text text-anchor=\"start\" x=\"770.5\" y=\"-52.8\" font-family=\"Helvetica,sans-Serif\" font-size=\"14.00\" fill=\"#000000\">gini = 0.155</text>\n",
       "<text text-anchor=\"start\" x=\"760.5\" y=\"-37.8\" font-family=\"Helvetica,sans-Serif\" font-size=\"14.00\" fill=\"#000000\">samples = 1397</text>\n",
       "<text text-anchor=\"start\" x=\"753\" y=\"-22.8\" font-family=\"Helvetica,sans-Serif\" font-size=\"14.00\" fill=\"#000000\">value = [1279, 118]</text>\n",
       "<text text-anchor=\"start\" x=\"752\" y=\"-7.8\" font-family=\"Helvetica,sans-Serif\" font-size=\"14.00\" fill=\"#000000\">class = 200%+ FPL</text>\n",
       "</g>\n",
       "<!-- 12&#45;&gt;13 -->\n",
       "<g id=\"edge13\" class=\"edge\">\n",
       "<title>12&#45;&gt;13</title>\n",
       "<path fill=\"none\" stroke=\"#000000\" d=\"M798,-103.9815C798,-95.618 798,-86.7965 798,-78.3409\"/>\n",
       "<polygon fill=\"#000000\" stroke=\"#000000\" points=\"801.5001,-78.2636 798,-68.2637 794.5001,-78.2637 801.5001,-78.2636\"/>\n",
       "</g>\n",
       "<!-- 14 -->\n",
       "<g id=\"node15\" class=\"node\">\n",
       "<title>14</title>\n",
       "<path fill=\"#e58139\" fill-opacity=\"0.478431\" stroke=\"#000000\" d=\"M966,-68C966,-68 882,-68 882,-68 876,-68 870,-62 870,-56 870,-56 870,-12 870,-12 870,-6 876,0 882,0 882,0 966,0 966,0 972,0 978,-6 978,-12 978,-12 978,-56 978,-56 978,-62 972,-68 966,-68\"/>\n",
       "<text text-anchor=\"start\" x=\"899.5\" y=\"-52.8\" font-family=\"Helvetica,sans-Serif\" font-size=\"14.00\" fill=\"#000000\">gini = 0.45</text>\n",
       "<text text-anchor=\"start\" x=\"892.5\" y=\"-37.8\" font-family=\"Helvetica,sans-Serif\" font-size=\"14.00\" fill=\"#000000\">samples = 38</text>\n",
       "<text text-anchor=\"start\" x=\"887.5\" y=\"-22.8\" font-family=\"Helvetica,sans-Serif\" font-size=\"14.00\" fill=\"#000000\">value = [25, 13]</text>\n",
       "<text text-anchor=\"start\" x=\"878\" y=\"-7.8\" font-family=\"Helvetica,sans-Serif\" font-size=\"14.00\" fill=\"#000000\">class = 200%+ FPL</text>\n",
       "</g>\n",
       "<!-- 12&#45;&gt;14 -->\n",
       "<g id=\"edge14\" class=\"edge\">\n",
       "<title>12&#45;&gt;14</title>\n",
       "<path fill=\"none\" stroke=\"#000000\" d=\"M844.9177,-103.9815C855.6152,-94.5151 866.9756,-84.462 877.6492,-75.0168\"/>\n",
       "<polygon fill=\"#000000\" stroke=\"#000000\" points=\"880.1111,-77.5118 885.2805,-68.2637 875.4722,-72.2696 880.1111,-77.5118\"/>\n",
       "</g>\n",
       "</g>\n",
       "</svg>\n"
      ],
      "text/plain": [
       "<graphviz.files.Source at 0x1a42a48358>"
      ]
     },
     "execution_count": 344,
     "metadata": {},
     "output_type": "execute_result"
    }
   ],
   "source": [
    "from sklearn.tree import DecisionTreeClassifier\n",
    "from sklearn.tree import export_graphviz\n",
    "\n",
    "survey_categories = [\"MATERIALISM_1\", \"SUBKNOWL1\", \"GOALCONF\", \"KHKNOWL7\", \"LIVINGARRANGEMENT\", \"fpl\"]\n",
    "\n",
    "#for cat in survey_categories:\n",
    "    #print(dict[cat])\n",
    "    #print()\n",
    "\n",
    "df_tree = df[survey_categories]\n",
    "\n",
    "X_tree = df_tree.drop([\"fpl\"], axis=1)\n",
    "X_tree = pd.get_dummies(X_tree)\n",
    "column_list = X_tree.columns.tolist()\n",
    "\n",
    "y_tree = df_tree[\"fpl\"]\n",
    "y_tree = y_tree.str.replace(\"2\", \"1\")\n",
    "y_tree = y_tree.str.replace(\"3\", \"0\")\n",
    "\n",
    "\n",
    "#For predicting individuals <199% FPL   \n",
    "    \n",
    "X_train, X_test, y_train, y_test = train_test_split(X_tree, y_tree, test_size = 0.2, random_state = 5, stratify = y)\n",
    "    \n",
    "tree_clf = DecisionTreeClassifier(max_depth=3, min_samples_leaf=2, random_state=5)\n",
    "tree_clf.fit(X_train, y_train)\n",
    "\n",
    "dot_data = tree.export_graphviz(tree_clf, out_file=None, \n",
    "                         feature_names=column_list,  \n",
    "                         class_names=['200%+ FPL', '199% FPL'],  \n",
    "                         filled=True, rounded=True,  \n",
    "                         special_characters=True)  \n",
    "graph = graphviz.Source(dot_data)  \n",
    "graph\n",
    "\n",
    "\n"
   ]
  },
  {
   "cell_type": "code",
   "execution_count": 345,
   "metadata": {},
   "outputs": [
    {
     "data": {
      "text/plain": [
       "0    4874\n",
       "1    1520\n",
       "Name: fpl, dtype: int64"
      ]
     },
     "execution_count": 345,
     "metadata": {},
     "output_type": "execute_result"
    }
   ],
   "source": [
    "y_tree.value_counts()  #The tree was not that accurate..."
   ]
  }
 ],
 "metadata": {
  "kernelspec": {
   "display_name": "Python 3",
   "language": "python",
   "name": "python3"
  },
  "language_info": {
   "codemirror_mode": {
    "name": "ipython",
    "version": 3
   },
   "file_extension": ".py",
   "mimetype": "text/x-python",
   "name": "python",
   "nbconvert_exporter": "python",
   "pygments_lexer": "ipython3",
   "version": "3.6.4"
  }
 },
 "nbformat": 4,
 "nbformat_minor": 2
}
